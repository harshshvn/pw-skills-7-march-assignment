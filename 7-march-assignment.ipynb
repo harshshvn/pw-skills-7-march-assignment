{
 "cells": [
  {
   "cell_type": "markdown",
   "id": "c416be1c-ef7b-47b0-9b9a-4a872ef97bf2",
   "metadata": {},
   "source": [
    "Q1\n"
   ]
  },
  {
   "cell_type": "markdown",
   "id": "c2ac08b1-8659-434e-b22d-3c61c1406d47",
   "metadata": {},
   "source": [
    "There are three main measures of central tendency:\n",
    "\n",
    "mode\n",
    "\n",
    "median\n",
    "\n",
    "mean\n"
   ]
  },
  {
   "cell_type": "markdown",
   "id": "34e11baa-5806-4161-a98b-faac0ccb6ec4",
   "metadata": {},
   "source": [
    "Q2"
   ]
  },
  {
   "cell_type": "markdown",
   "id": "b3bb5eb1-d1dd-4fc8-9c35-1a6a4c84049b",
   "metadata": {},
   "source": [
    "The mean (or average) is the most popular and well known measure of central tendency. It can be used with both discrete and continuous data, although its use is most often with continuous data (see our Types of Variable guide for data types). The mean is equal to the sum of all the values in the data set divided by the number of values in the data set.\n",
    "\n",
    "The median is the middle score for a set of data that has been arranged in order of magnitude. The median is less affected by outliers and skewed data\n",
    "\n",
    "The mode is the most frequent score in our data set. On a histogram it represents the highest bar in a bar chart or histogram."
   ]
  },
  {
   "cell_type": "markdown",
   "id": "f29538eb-b84b-415f-8658-d332431a63a5",
   "metadata": {},
   "source": [
    "Q3"
   ]
  },
  {
   "cell_type": "code",
   "execution_count": 3,
   "id": "a674b0b4-2505-4e27-9082-440cb2dcb461",
   "metadata": {},
   "outputs": [],
   "source": [
    "data=[178,177,176,177,178.2,178,175,179,180,175,178.9,176.2,177,172.5,178,176.5]\n",
    "import numpy as np\n"
   ]
  },
  {
   "cell_type": "code",
   "execution_count": 4,
   "id": "a8215b46-e5b1-48c4-b3c0-7677cf145eb0",
   "metadata": {},
   "outputs": [
    {
     "data": {
      "text/plain": [
       "177.01875"
      ]
     },
     "execution_count": 4,
     "metadata": {},
     "output_type": "execute_result"
    }
   ],
   "source": [
    "np.mean(data)"
   ]
  },
  {
   "cell_type": "code",
   "execution_count": 5,
   "id": "2252032b-e46a-45a5-90ab-2c7afdb2f66a",
   "metadata": {},
   "outputs": [
    {
     "data": {
      "text/plain": [
       "177.0"
      ]
     },
     "execution_count": 5,
     "metadata": {},
     "output_type": "execute_result"
    }
   ],
   "source": [
    "np.median(data)"
   ]
  },
  {
   "cell_type": "code",
   "execution_count": 6,
   "id": "c9031e60-a4ad-4071-b16d-46d159909ad4",
   "metadata": {},
   "outputs": [],
   "source": [
    "from scipy import stats\n"
   ]
  },
  {
   "cell_type": "code",
   "execution_count": 7,
   "id": "27881930-cb32-4a8a-9e65-ae950c36c3fa",
   "metadata": {},
   "outputs": [
    {
     "name": "stderr",
     "output_type": "stream",
     "text": [
      "/tmp/ipykernel_84/3267261142.py:1: FutureWarning: Unlike other reduction functions (e.g. `skew`, `kurtosis`), the default behavior of `mode` typically preserves the axis it acts along. In SciPy 1.11.0, this behavior will change: the default value of `keepdims` will become False, the `axis` over which the statistic is taken will be eliminated, and the value None will no longer be accepted. Set `keepdims` to True or False to avoid this warning.\n",
      "  stats.mode(data)\n"
     ]
    },
    {
     "data": {
      "text/plain": [
       "ModeResult(mode=array([177.]), count=array([3]))"
      ]
     },
     "execution_count": 7,
     "metadata": {},
     "output_type": "execute_result"
    }
   ],
   "source": [
    "stats.mode(data)"
   ]
  },
  {
   "cell_type": "markdown",
   "id": "33ffdb86-3a5e-4d4f-a915-f76616639c8f",
   "metadata": {},
   "source": [
    "Q4"
   ]
  },
  {
   "cell_type": "code",
   "execution_count": 10,
   "id": "0a5c9304-7aa8-4d99-9646-5b8a7a124633",
   "metadata": {},
   "outputs": [
    {
     "data": {
      "text/plain": [
       "1.7885814036548633"
      ]
     },
     "execution_count": 10,
     "metadata": {},
     "output_type": "execute_result"
    }
   ],
   "source": [
    "data=[178,177,176,177,178.2,178,175,179,180,175,178.9,176.2,177,172.5,178,176.5]\n",
    "np.std(data)"
   ]
  },
  {
   "cell_type": "markdown",
   "id": "0a7c6a2d-0cbd-4baa-9f21-5c9770936273",
   "metadata": {},
   "source": [
    "Q5"
   ]
  },
  {
   "cell_type": "markdown",
   "id": "ddcd4ecb-1e80-46b3-80d8-fbcb4181933b",
   "metadata": {},
   "source": [
    "The range is the difference between the largest and the smallest observation in the data. The prime advantage of this measure of dispersion is that it is easy to calculate. \n",
    "\n",
    "tandard deviation (SD) is the most commonly used measure of dispersion. It is a measure of spread of data about the mean. SD is the square root of sum of squared deviation from the mean divided by the number of observations\n",
    "\n",
    "Unlike range and interquartile range, variance is a measure of dispersion that takes into account the spread of all data points in a data set. It’s the measure of dispersion the most often used, along with the standard deviation, which is simply the square root of the variance. "
   ]
  },
  {
   "cell_type": "markdown",
   "id": "18f09236-3559-46c6-9738-70134afc3dca",
   "metadata": {},
   "source": [
    "Q6"
   ]
  },
  {
   "cell_type": "markdown",
   "id": "0e952153-7b7e-458d-b995-75681ea7132d",
   "metadata": {},
   "source": [
    "\n",
    "A Venn diagram uses overlapping circles or other shapes to illustrate the logical relationships between two or more sets of items. Often, they serve to graphically organize things, highlighting how the items are similar and different."
   ]
  },
  {
   "cell_type": "markdown",
   "id": "54b6535c-ce85-424a-8005-82bbb7458db9",
   "metadata": {},
   "source": [
    "Q7"
   ]
  },
  {
   "cell_type": "code",
   "execution_count": 13,
   "id": "709d0383-0201-49c6-b9ba-7f397f9526c8",
   "metadata": {},
   "outputs": [],
   "source": [
    "A=(2,3,4,5,6,7)\n",
    "B=(0,2,6,8,10)"
   ]
  },
  {
   "cell_type": "code",
   "execution_count": 16,
   "id": "a46053a7-b982-4848-a21d-b96ed7fa9aad",
   "metadata": {},
   "outputs": [],
   "source": [
    "a=set(A)\n",
    "b=set(B)\n"
   ]
  },
  {
   "cell_type": "code",
   "execution_count": 17,
   "id": "6dca8465-175e-4b7e-9a1a-646697b49e20",
   "metadata": {},
   "outputs": [
    {
     "data": {
      "text/plain": [
       "{2, 6}"
      ]
     },
     "execution_count": 17,
     "metadata": {},
     "output_type": "execute_result"
    }
   ],
   "source": [
    "a.intersection(b)"
   ]
  },
  {
   "cell_type": "code",
   "execution_count": 18,
   "id": "4a52f05e-da12-468f-b2aa-235e099fb661",
   "metadata": {},
   "outputs": [
    {
     "data": {
      "text/plain": [
       "{0, 2, 3, 4, 5, 6, 7, 8, 10}"
      ]
     },
     "execution_count": 18,
     "metadata": {},
     "output_type": "execute_result"
    }
   ],
   "source": [
    "a.union(b)"
   ]
  },
  {
   "cell_type": "markdown",
   "id": "45fa3e2a-7aa2-4b3b-a9f4-d1e055addb9d",
   "metadata": {},
   "source": [
    "Q8"
   ]
  },
  {
   "cell_type": "markdown",
   "id": "4f9ea2e6-1ddf-4535-a2c4-bc54e23fd404",
   "metadata": {},
   "source": [
    "Skewness is a measurement of the distortion of symmetrical distribution or asymmetry in a data set. Skewness is demonstrated on a bell curve when data points are not distributed symmetrically to the left and right sides of the median on a bell curve.\n",
    "\n"
   ]
  },
  {
   "cell_type": "markdown",
   "id": "d2be2895-a796-4b3b-835e-43fc445177e7",
   "metadata": {},
   "source": [
    "Q9"
   ]
  },
  {
   "cell_type": "markdown",
   "id": "00d8c055-d08b-4944-9629-b4bfd9b83055",
   "metadata": {},
   "source": [
    " A right-skewed distribution will have the mean to the right of the median."
   ]
  },
  {
   "cell_type": "markdown",
   "id": "1048ac07-4ff4-486f-95b3-a704cf6ed084",
   "metadata": {},
   "source": [
    "Q10"
   ]
  },
  {
   "cell_type": "markdown",
   "id": "bb13daee-6f36-490f-b0e6-fdd594da87e0",
   "metadata": {},
   "source": [
    "Both covariance and correlation measure the relationship and the dependency between two variables. Covariance indicates the direction of the linear relationship between variables. Correlation measures both the strength and direction of the linear relationship between two variables. "
   ]
  },
  {
   "cell_type": "markdown",
   "id": "895d2092-d63b-481d-bcf6-71d25b3e1917",
   "metadata": {},
   "source": [
    "Q11"
   ]
  },
  {
   "cell_type": "markdown",
   "id": "c4830d61-779e-44a0-a396-f7d8286411a7",
   "metadata": {},
   "source": [
    "The general formula for calculating the sample mean is given by x̄ =(Σxi)/n.\n"
   ]
  },
  {
   "cell_type": "code",
   "execution_count": 22,
   "id": "f5aacd62-2b57-409c-9a4d-890f09ba3a59",
   "metadata": {},
   "outputs": [],
   "source": [
    "import seaborn as sns\n"
   ]
  },
  {
   "cell_type": "code",
   "execution_count": 24,
   "id": "1e7ca3e7-ab31-4666-b8be-381717b57079",
   "metadata": {},
   "outputs": [
    {
     "data": {
      "text/html": [
       "<div>\n",
       "<style scoped>\n",
       "    .dataframe tbody tr th:only-of-type {\n",
       "        vertical-align: middle;\n",
       "    }\n",
       "\n",
       "    .dataframe tbody tr th {\n",
       "        vertical-align: top;\n",
       "    }\n",
       "\n",
       "    .dataframe thead th {\n",
       "        text-align: right;\n",
       "    }\n",
       "</style>\n",
       "<table border=\"1\" class=\"dataframe\">\n",
       "  <thead>\n",
       "    <tr style=\"text-align: right;\">\n",
       "      <th></th>\n",
       "      <th>Year</th>\n",
       "      <th>Country</th>\n",
       "      <th>Spending_USD</th>\n",
       "      <th>Life_Expectancy</th>\n",
       "    </tr>\n",
       "  </thead>\n",
       "  <tbody>\n",
       "    <tr>\n",
       "      <th>0</th>\n",
       "      <td>1970</td>\n",
       "      <td>Germany</td>\n",
       "      <td>252.311</td>\n",
       "      <td>70.6</td>\n",
       "    </tr>\n",
       "    <tr>\n",
       "      <th>1</th>\n",
       "      <td>1970</td>\n",
       "      <td>France</td>\n",
       "      <td>192.143</td>\n",
       "      <td>72.2</td>\n",
       "    </tr>\n",
       "    <tr>\n",
       "      <th>2</th>\n",
       "      <td>1970</td>\n",
       "      <td>Great Britain</td>\n",
       "      <td>123.993</td>\n",
       "      <td>71.9</td>\n",
       "    </tr>\n",
       "    <tr>\n",
       "      <th>3</th>\n",
       "      <td>1970</td>\n",
       "      <td>Japan</td>\n",
       "      <td>150.437</td>\n",
       "      <td>72.0</td>\n",
       "    </tr>\n",
       "    <tr>\n",
       "      <th>4</th>\n",
       "      <td>1970</td>\n",
       "      <td>USA</td>\n",
       "      <td>326.961</td>\n",
       "      <td>70.9</td>\n",
       "    </tr>\n",
       "  </tbody>\n",
       "</table>\n",
       "</div>"
      ],
      "text/plain": [
       "   Year        Country  Spending_USD  Life_Expectancy\n",
       "0  1970        Germany       252.311             70.6\n",
       "1  1970         France       192.143             72.2\n",
       "2  1970  Great Britain       123.993             71.9\n",
       "3  1970          Japan       150.437             72.0\n",
       "4  1970            USA       326.961             70.9"
      ]
     },
     "execution_count": 24,
     "metadata": {},
     "output_type": "execute_result"
    }
   ],
   "source": [
    "df=sns.load_dataset('healthexp')\n",
    "df.head()"
   ]
  },
  {
   "cell_type": "code",
   "execution_count": 25,
   "id": "8e03cdac-4922-49f5-a0d0-545ea39ff6c2",
   "metadata": {},
   "outputs": [
    {
     "name": "stderr",
     "output_type": "stream",
     "text": [
      "/tmp/ipykernel_84/3698961737.py:1: FutureWarning: The default value of numeric_only in DataFrame.mean is deprecated. In a future version, it will default to False. In addition, specifying 'numeric_only=None' is deprecated. Select only valid columns or specify the value of numeric_only to silence this warning.\n",
      "  df.mean()\n"
     ]
    },
    {
     "data": {
      "text/plain": [
       "Year               1996.992701\n",
       "Spending_USD       2789.338905\n",
       "Life_Expectancy      77.909489\n",
       "dtype: float64"
      ]
     },
     "execution_count": 25,
     "metadata": {},
     "output_type": "execute_result"
    }
   ],
   "source": [
    "df.mean()"
   ]
  },
  {
   "cell_type": "markdown",
   "id": "0f32787e-c5f0-4a44-bbf2-62aa03bd224e",
   "metadata": {},
   "source": [
    "Q12"
   ]
  },
  {
   "cell_type": "markdown",
   "id": "08ec1efc-4d41-491a-a98a-c8606bdf7087",
   "metadata": {},
   "source": [
    "The mean is usually the best measure of central tendency to use when your data distribution is continuous and symmetrical, such as when your data is normally distributed."
   ]
  },
  {
   "cell_type": "markdown",
   "id": "2a7251e3-6350-42f3-bcb4-dead8d2793e1",
   "metadata": {},
   "source": [
    "Q13"
   ]
  },
  {
   "cell_type": "markdown",
   "id": "4270aa78-4e24-494f-8953-04bb0cead3e9",
   "metadata": {},
   "source": [
    "\n",
    "Covariance and correlation are two terms that are opposed and are both used in statistics and regression analysis. Covariance shows you how the two variables differ, whereas correlation shows you how the two variables are related"
   ]
  },
  {
   "cell_type": "markdown",
   "id": "521fc214-d865-4bc9-ba91-320e69d7095e",
   "metadata": {},
   "source": [
    "Q14"
   ]
  },
  {
   "cell_type": "markdown",
   "id": "3411dca6-02ac-4266-901d-a04047e9df61",
   "metadata": {},
   "source": [
    "when a outlier is present it can effect the shape of the graph, if we have outliers to the right of the graph. These outliers are causing the mean to increase, but if we have outliers to the left of the graph these outliers are dragging down the mean. This causes a conflict because the mean no longer provides a good representation of the data, alternatively we would much rather use the median. The median on the other hand is less likely to be affect by outliers.\n",
    "\n"
   ]
  },
  {
   "cell_type": "code",
   "execution_count": null,
   "id": "c5e61aaf-ab1e-4cb6-bdab-f42edc78b2fa",
   "metadata": {},
   "outputs": [],
   "source": []
  }
 ],
 "metadata": {
  "kernelspec": {
   "display_name": "Python 3 (ipykernel)",
   "language": "python",
   "name": "python3"
  },
  "language_info": {
   "codemirror_mode": {
    "name": "ipython",
    "version": 3
   },
   "file_extension": ".py",
   "mimetype": "text/x-python",
   "name": "python",
   "nbconvert_exporter": "python",
   "pygments_lexer": "ipython3",
   "version": "3.10.8"
  }
 },
 "nbformat": 4,
 "nbformat_minor": 5
}
